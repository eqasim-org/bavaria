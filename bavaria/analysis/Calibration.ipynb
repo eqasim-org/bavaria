{
 "cells": [
  {
   "cell_type": "code",
   "execution_count": null,
   "metadata": {},
   "outputs": [],
   "source": [
    "import os\n",
    "from pathlib import Path\n",
    "\n",
    "import pandas as pd\n",
    "import numpy as np\n",
    "\n",
    "import shapely.geometry as sgeo\n",
    "import geopandas as gpd\n",
    "import pyogrio\n",
    "\n",
    "import plotly.io as pio\n",
    "import plotly.express as px"
   ]
  },
  {
   "cell_type": "code",
   "execution_count": null,
   "metadata": {},
   "outputs": [],
   "source": [
    "pio.templates.default = \"plotly_dark\""
   ]
  },
  {
   "cell_type": "markdown",
   "metadata": {},
   "source": [
    "# Calibration notebook\n",
    "\n",
    "Note: This notebook is a limited version of the full comparison and analysis notebook (`MiD Comparison.ipynb`) that only covers the aspects that we intend to fit during the manual calibratin of the choice model and congestion parameters."
   ]
  },
  {
   "cell_type": "markdown",
   "metadata": {},
   "source": [
    "## Settings"
   ]
  },
  {
   "cell_type": "code",
   "execution_count": null,
   "metadata": {},
   "outputs": [],
   "source": [
    "input_path = Path(\"/home/shoerl/tum/output\")\n",
    "input_prefix = \"bavaria_1pct_\"\n",
    "input_sampling_factor = 0.01"
   ]
  },
  {
   "cell_type": "code",
   "execution_count": null,
   "metadata": {},
   "outputs": [],
   "source": [
    "# check files from the synthetic population\n",
    "assert os.path.exists(input_path / \"{}homes.gpkg\".format(input_prefix))\n",
    "assert os.path.exists(input_path / \"{}households.csv\".format(input_prefix))\n",
    "assert os.path.exists(input_path / \"{}persons.csv\".format(input_prefix))\n",
    "\n",
    "# check files from mode choice and/or MATSim simulation\n",
    "assert os.path.exists(input_path / \"eqasim_trips.csv\")\n",
    "\n",
    "# check zone data\n",
    "assert os.path.exists(\"zones.gpkg\")"
   ]
  },
  {
   "cell_type": "code",
   "execution_count": null,
   "metadata": {},
   "outputs": [],
   "source": [
    "# Zoning data\n",
    "df_zones = gpd.read_file(\"zones.gpkg\")"
   ]
  },
  {
   "cell_type": "markdown",
   "metadata": {},
   "source": [
    "## Data preparation"
   ]
  },
  {
   "cell_type": "code",
   "execution_count": null,
   "metadata": {},
   "outputs": [],
   "source": [
    "# Load home locations\n",
    "df_homes = pyogrio.read_dataframe(input_path / \"{}homes.gpkg\".format(input_prefix))\n",
    "\n",
    "# Create a data frame to attach zone tags \n",
    "df_home_zones = gpd.sjoin(df_homes, df_zones, predicate = \"within\")[[\"household_id\", \"zone_id\"]]\n",
    "\n",
    "def home_zones(df, zones):\n",
    "    df_selection = df_home_zones[df_home_zones[\"zone_id\"].isin(zones)]\n",
    "    return pd.merge(df, df_selection, on = \"household_id\")"
   ]
  },
  {
   "cell_type": "code",
   "execution_count": null,
   "metadata": {},
   "outputs": [],
   "source": [
    "# Load person information\n",
    "df_persons = pd.read_csv(input_path / \"{}persons.csv\".format(input_prefix), sep = \";\")"
   ]
  },
  {
   "cell_type": "code",
   "execution_count": null,
   "metadata": {},
   "outputs": [],
   "source": [
    "# Merge household information\n",
    "df_households = pd.read_csv(input_path / \"{}households.csv\".format(input_prefix), sep = \";\")\n",
    "df_persons = pd.merge(df_persons, df_households, on = \"household_id\")"
   ]
  },
  {
   "cell_type": "code",
   "execution_count": null,
   "metadata": {},
   "outputs": [],
   "source": [
    "df_trips = pd.read_csv(input_path / \"eqasim_trips.csv\", sep = \";\")\n",
    "\n",
    "origin = gpd.points_from_xy(df_trips[\"origin_x\"], df_trips[\"origin_y\"])\n",
    "destination = gpd.points_from_xy(df_trips[\"destination_x\"], df_trips[\"destination_y\"])\n",
    "\n",
    "df_trips[\"geometry\"] = [sgeo.LineString(od) for od in zip(origin, destination)]\n",
    "df_trips = gpd.GeoDataFrame(df_trips, crs = \"EPSG:25832\")"
   ]
  },
  {
   "cell_type": "code",
   "execution_count": null,
   "metadata": {},
   "outputs": [],
   "source": [
    "# Load trip information\n",
    "df_trips = pd.read_csv(input_path / \"eqasim_trips.csv\", sep = \";\")\n",
    "\n",
    "origin = gpd.points_from_xy(df_trips[\"origin_x\"], df_trips[\"origin_y\"])\n",
    "destination = gpd.points_from_xy(df_trips[\"destination_x\"], df_trips[\"destination_y\"])\n",
    "\n",
    "df_trips[\"geometry\"] = [sgeo.LineString(od) for od in zip(origin, destination)]\n",
    "df_trips = gpd.GeoDataFrame(df_trips, crs = \"EPSG:25832\")\n",
    "\n",
    "df_trips[\"trip_index\"] = np.arange(len(df_trips))"
   ]
  },
  {
   "cell_type": "code",
   "execution_count": null,
   "metadata": {},
   "outputs": [],
   "source": [
    "# Merge in household id\n",
    "df_trips = pd.merge(df_trips, df_persons[[\"person_id\", \"household_id\"]])\n",
    "\n",
    "# Create a data frame to attach zone tags \n",
    "df_trip_zones  = df_trips[[\"person_id\", \"trip_index\"]].copy()\n",
    "df_trip_zones = pd.merge(df_trip_zones, df_persons[[\"person_id\", \"household_id\"]], on = \"person_id\")\n",
    "df_trip_zones = pd.merge(df_trip_zones, df_home_zones, on = \"household_id\").drop(columns = [\"person_id\"])\n",
    "\n",
    "def trip_zones(df, zones):\n",
    "    df_selection = df_trip_zones[df_trip_zones[\"zone_id\"].isin(zones)]\n",
    "    return pd.merge(df, df_selection, on = \"trip_index\")"
   ]
  },
  {
   "cell_type": "code",
   "execution_count": null,
   "metadata": {},
   "outputs": [],
   "source": [
    "# Add tag if person is active\n",
    "df_persons[\"is_active\"] = df_persons[\"person_id\"].isin(df_trips[\"person_id\"])"
   ]
  },
  {
   "cell_type": "code",
   "execution_count": null,
   "metadata": {},
   "outputs": [],
   "source": [
    "# Enrich trips\n",
    "df_trips[\"trips\"] = 1.0\n",
    "df_trips[\"distance_km\"] = df_trips[\"routed_distance\"] * 1e-3\n",
    "df_trips[\"travel_time_min\"] = df_trips[\"travel_time\"] / 60\n",
    "df_trips[\"euclidean_distance_km\"] = df_trips[\"euclidean_distance\"] * 1e-3\n",
    "\n",
    "# Definition of purpose\n",
    "df_trips[\"purpose\"] = df_trips[\"following_purpose\"]\n",
    "f_return = df_trips[\"following_purpose\"] == \"home\"\n",
    "df_trips.loc[f_return, \"purpose\"] = df_trips.loc[f_return, \"preceding_purpose\"]\n",
    "\n",
    "# Remove zero distance trips\n",
    "df_trips = df_trips[df_trips[\"euclidean_distance\"] > 0]"
   ]
  },
  {
   "cell_type": "markdown",
   "metadata": {},
   "source": [
    "## Comparison"
   ]
  },
  {
   "cell_type": "code",
   "execution_count": null,
   "metadata": {},
   "outputs": [],
   "source": [
    "df = trip_zones(df_trips[[\"trip_index\", \"mode\", \"distance_km\", \"travel_time_min\"]], [\"mvv\", \"munich\", \"umland\"]).drop(columns = [\"trip_index\"]).groupby(\n",
    "    [\"zone_id\", \"mode\"]).median(numeric_only = True).reset_index().assign(data = \"synthetic\")\n",
    "\n",
    "df = pd.concat([df, pd.DataFrame.from_records([\n",
    "    { \"zone_id\": \"mvv\", \"mode\": \"walk\", \"distance_km\": 1, \"travel_time_min\": 1, \"data\": \"MiD\" },\n",
    "    { \"zone_id\": \"mvv\", \"mode\": \"bicycle\", \"distance_km\": 2, \"travel_time_min\": 2, \"data\": \"MiD\" },\n",
    "    { \"zone_id\": \"mvv\", \"mode\": \"car_passenger\", \"distance_km\": 6, \"travel_time_min\": 6, \"data\": \"MiD\" },\n",
    "    { \"zone_id\": \"mvv\", \"mode\": \"car\", \"distance_km\": 8, \"travel_time_min\": 8, \"data\": \"MiD\" },\n",
    "    { \"zone_id\": \"mvv\", \"mode\": \"pt\", \"distance_km\": 8, \"travel_time_min\": 8, \"data\": \"MiD\" },\n",
    "    { \"zone_id\": \"munich\", \"mode\": \"walk\", \"distance_km\": 1, \"travel_time_min\": 1, \"data\": \"MiD\" },\n",
    "    { \"zone_id\": \"munich\", \"mode\": \"bicycle\", \"distance_km\": 2, \"travel_time_min\": 2, \"data\": \"MiD\" },\n",
    "    { \"zone_id\": \"munich\", \"mode\": \"car_passenger\", \"distance_km\": 6, \"travel_time_min\": 6, \"data\": \"MiD\" },\n",
    "    { \"zone_id\": \"munich\", \"mode\": \"car\", \"distance_km\": 7, \"travel_time_min\": 7, \"data\": \"MiD\" },\n",
    "    { \"zone_id\": \"munich\", \"mode\": \"pt\", \"distance_km\": 6, \"travel_time_min\": 6, \"data\": \"MiD\" },\n",
    "    { \"zone_id\": \"umland\", \"mode\": \"walk\", \"distance_km\": 1, \"travel_time_min\": 1, \"data\": \"MiD\" },\n",
    "    { \"zone_id\": \"umland\", \"mode\": \"bicycle\", \"distance_km\": 2, \"travel_time_min\": 2, \"data\": \"MiD\" },\n",
    "    { \"zone_id\": \"umland\", \"mode\": \"car_passenger\", \"distance_km\": 6, \"travel_time_min\": 6, \"data\": \"MiD\" },\n",
    "    { \"zone_id\": \"umland\", \"mode\": \"car\", \"distance_km\": 8, \"travel_time_min\": 8, \"data\": \"MiD\" },\n",
    "    { \"zone_id\": \"umland\", \"mode\": \"pt\", \"distance_km\": 14, \"travel_time_min\": 14, \"data\": \"MiD\" },\n",
    "])])"
   ]
  },
  {
   "cell_type": "code",
   "execution_count": null,
   "metadata": {},
   "outputs": [],
   "source": [
    "px.bar(\n",
    "    df, x = \"zone_id\", y = \"distance_km\", pattern_shape = \"data\", barmode = \"group\",\n",
    "    title = \"Median distance by mode\", color = \"mode\"\n",
    ")"
   ]
  },
  {
   "cell_type": "code",
   "execution_count": null,
   "metadata": {},
   "outputs": [],
   "source": [
    "px.bar(\n",
    "    df, x = \"zone_id\", y = \"travel_time_min\", pattern_shape = \"data\", barmode = \"group\",\n",
    "    title = \"Median travel time by mode\", color = \"mode\"\n",
    ")"
   ]
  },
  {
   "cell_type": "markdown",
   "metadata": {},
   "source": [
    "### Mode share by trips and distance (Figure 17)"
   ]
  },
  {
   "cell_type": "code",
   "execution_count": null,
   "metadata": {},
   "outputs": [],
   "source": [
    "df = trip_zones(df_trips[[\"trip_index\", \"mode\"]], [\"mvv\", \"munich\", \"umland\"]).drop(columns = [\"trip_index\"]).groupby([\n",
    "    \"mode\", \"zone_id\"\n",
    "]).size().reset_index(name = \"count\").assign(data = \"synthetic\")\n",
    "\n",
    "df_total = df.groupby(\"zone_id\")[\"count\"].sum().reset_index(name = \"total\")\n",
    "df = pd.merge(df, df_total, on = \"zone_id\")\n",
    "df[\"share\"] = df[\"count\"] / df[\"total\"]\n",
    "\n",
    "df = pd.concat([df, pd.DataFrame.from_records([\n",
    "    { \"zone_id\": \"mvv\", \"mode\": \"walk\", \"share\": 0.21, \"data\": \"MiD\" },\n",
    "    { \"zone_id\": \"mvv\", \"mode\": \"bicycle\", \"share\": 0.15, \"data\": \"MiD\" },\n",
    "    { \"zone_id\": \"mvv\", \"mode\": \"car_passenger\", \"share\": 0.12, \"data\": \"MiD\" },\n",
    "    { \"zone_id\": \"mvv\", \"mode\": \"car\", \"share\": 0.34, \"data\": \"MiD\" },\n",
    "    { \"zone_id\": \"mvv\", \"mode\": \"pt\", \"share\": 0.18, \"data\": \"MiD\" },\n",
    "    { \"zone_id\": \"munich\", \"mode\": \"walk\", \"share\": 0.24, \"data\": \"MiD\" },\n",
    "    { \"zone_id\": \"munich\", \"mode\": \"bicycle\", \"share\": 0.18, \"data\": \"MiD\" },\n",
    "    { \"zone_id\": \"munich\", \"mode\": \"car_passenger\", \"share\": 0.10, \"data\": \"MiD\" },\n",
    "    { \"zone_id\": \"munich\", \"mode\": \"car\", \"share\": 0.24, \"data\": \"MiD\" },\n",
    "    { \"zone_id\": \"munich\", \"mode\": \"pt\", \"share\": 0.24, \"data\": \"MiD\" },\n",
    "    { \"zone_id\": \"umland\", \"mode\": \"walk\", \"share\": 0.18, \"data\": \"MiD\" },\n",
    "    { \"zone_id\": \"umland\", \"mode\": \"bicycle\", \"share\": 0.13, \"data\": \"MiD\" },\n",
    "    { \"zone_id\": \"umland\", \"mode\": \"car_passenger\", \"share\": 0.14, \"data\": \"MiD\" },\n",
    "    { \"zone_id\": \"umland\", \"mode\": \"car\", \"share\": 0.44, \"data\": \"MiD\" },\n",
    "    { \"zone_id\": \"umland\", \"mode\": \"pt\", \"share\": 0.11, \"data\": \"MiD\" },\n",
    "])])\n",
    "\n",
    "px.bar(\n",
    "    df, x = \"zone_id\", y = \"share\", pattern_shape = \"data\", barmode = \"group\",\n",
    "    title = \"Mode share by trips\", color = \"mode\"\n",
    ")"
   ]
  }
 ],
 "metadata": {
  "kernelspec": {
   "display_name": "bavaria",
   "language": "python",
   "name": "python3"
  },
  "language_info": {
   "codemirror_mode": {
    "name": "ipython",
    "version": 3
   },
   "file_extension": ".py",
   "mimetype": "text/x-python",
   "name": "python",
   "nbconvert_exporter": "python",
   "pygments_lexer": "ipython3",
   "version": "3.10.10"
  }
 },
 "nbformat": 4,
 "nbformat_minor": 2
}
