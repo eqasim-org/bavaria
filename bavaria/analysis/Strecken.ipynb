{
 "cells": [
  {
   "cell_type": "code",
   "execution_count": null,
   "metadata": {},
   "outputs": [],
   "source": [
    "import os\n",
    "from pathlib import Path\n",
    "\n",
    "from cryptography.fernet import Fernet\n",
    "import json\n",
    "\n",
    "import numpy as np\n",
    "import pandas as pd\n",
    "import geopandas as gpd\n",
    "import zipfile\n",
    "\n",
    "import plotly.express as px"
   ]
  },
  {
   "cell_type": "markdown",
   "metadata": {},
   "source": [
    "# Transit comparison\n",
    "\n",
    "Stop-to-stop flows for transit relations are available from a traffic model for the city of Munich. They are located in `transit_reference.json.enc`, but only accessible if you have gained access. To make use of the data, put a file called `encryption_key` into this folder to be able to decrypt the reference data. You can obtain the encryption key from TU Munich."
   ]
  },
  {
   "cell_type": "code",
   "execution_count": null,
   "metadata": {},
   "outputs": [],
   "source": [
    "if not os.path.exists(\"encryption_key\"):\n",
    "    raise RuntimeError(\"The encryption key is not accessible\")"
   ]
  },
  {
   "cell_type": "markdown",
   "metadata": {},
   "source": [
    "## Settings"
   ]
  },
  {
   "cell_type": "code",
   "execution_count": null,
   "metadata": {},
   "outputs": [],
   "source": [
    "input_path = Path(\"/home/shoerl/tum/output\")\n",
    "input_sampling_factor = 0.01"
   ]
  },
  {
   "cell_type": "code",
   "execution_count": null,
   "metadata": {},
   "outputs": [],
   "source": [
    "# Check GTFS data exists\n",
    "gtfs_path = input_path / \"latest.zip\"\n",
    "assert os.path.exists(gtfs_path)\n",
    "\n",
    "# check stop traversal data from simulation\n",
    "assert os.path.exists(input_path / \"stop_traversals.csv\")\n",
    "\n",
    "# check zone data\n",
    "assert os.path.exists(\"zones.gpkg\")"
   ]
  },
  {
   "cell_type": "markdown",
   "metadata": {},
   "source": [
    "## Load data"
   ]
  },
  {
   "cell_type": "code",
   "execution_count": null,
   "metadata": {},
   "outputs": [],
   "source": [
    "# Load encryption key\n",
    "with open(\"encryption_key\", \"rb\") as f:\n",
    "    encryption_key = f.read()\n",
    "\n",
    "# Decrypt reference data\n",
    "with open(\"transit_reference.json.enc\", \"rb\") as f:\n",
    "    reference = json.loads(Fernet(encryption_key).decrypt(f.read()).decode())"
   ]
  },
  {
   "cell_type": "code",
   "execution_count": null,
   "metadata": {},
   "outputs": [],
   "source": [
    "# Zoning data\n",
    "df_zones = gpd.read_file(\"zones.gpkg\")\n",
    "df_zones = df_zones[df_zones[\"zone_id\"] == \"mvv\"]"
   ]
  },
  {
   "cell_type": "code",
   "execution_count": null,
   "metadata": {},
   "outputs": [],
   "source": [
    "# Load an clean GTFS data\n",
    "with zipfile.ZipFile(gtfs_path) as archive:\n",
    "    with archive.open(\"stops.txt\") as f:\n",
    "        df_stops = pd.read_csv(f, sep = \",\")\n",
    "\n",
    "df_stops[\"geometry\"] = gpd.points_from_xy(df_stops[\"stop_lon\"], df_stops[\"stop_lat\"])\n",
    "df_stops = gpd.GeoDataFrame(df_stops, crs = \"EPSG:4326\").to_crs(\"EPSG:25832\")\n",
    "df_stops = gpd.sjoin(df_stops, df_zones, predicate = \"within\")"
   ]
  },
  {
   "cell_type": "code",
   "execution_count": null,
   "metadata": {},
   "outputs": [],
   "source": [
    "# Load leg data\n",
    "df_simulation = pd.read_csv(input_path / \"stop_traversals.csv\", sep = \";\")"
   ]
  },
  {
   "cell_type": "markdown",
   "metadata": {},
   "source": [
    "## Match stop identifiers"
   ]
  },
  {
   "cell_type": "code",
   "execution_count": null,
   "metadata": {},
   "outputs": [],
   "source": [
    "names = set([r[\"from\"] for r in reference] + [r[\"to\"] for r in reference])\n",
    "\n",
    "area_mapping = {}\n",
    "\n",
    "for name in names:\n",
    "    f = df_stops[\"stop_name\"] == name\n",
    "    f &= ~df_stops[\"parent_station\"].isna()\n",
    "\n",
    "    if np.count_nonzero(f) == 0:\n",
    "        print(\"No match for\", name)\n",
    "\n",
    "    else:\n",
    "        parents = df_stops.loc[f, \"parent_station\"].unique()\n",
    "\n",
    "        if len(parents) > 1:\n",
    "            print(\"Multiple parents for\", name, \":\", parents)\n",
    "        else:\n",
    "            area_mapping[name] = parents[0]"
   ]
  },
  {
   "cell_type": "code",
   "execution_count": null,
   "metadata": {},
   "outputs": [],
   "source": [
    "for relation in reference:\n",
    "    relation[\"from_area_id\"] = area_mapping[relation[\"from\"]]\n",
    "    relation[\"to_area_id\"] = area_mapping[relation[\"to\"]]"
   ]
  },
  {
   "cell_type": "markdown",
   "metadata": {},
   "source": [
    "## Perform comparison"
   ]
  },
  {
   "cell_type": "code",
   "execution_count": null,
   "metadata": {},
   "outputs": [],
   "source": [
    "# Build comparison data frame\n",
    "df_comparison = []\n",
    "\n",
    "for slot in [\"total\", \"at7\", \"at8\", \"at16\", \"at17\"]:\n",
    "    for relation in reference:\n",
    "        df_from = df_simulation[df_simulation[\"area_id\"] == float(relation[\"from_area_id\"])]\n",
    "        df_to = df_simulation[df_simulation[\"area_id\"] == float(relation[\"to_area_id\"])]\n",
    "\n",
    "        if slot.startswith(\"at\"):\n",
    "            hour = int(slot.replace(\"at\", \"\"))\n",
    "            df_from = df_from[df_from[\"departure_time\"] >= hour * 3600]\n",
    "            df_to = df_to[df_to[\"arrival_time\"] < (hour + 1) * 3600]\n",
    "\n",
    "        df_joint = pd.merge(df_from, df_to, on = [\"person_id\", \"trip_index\", \"leg_index\"])\n",
    "\n",
    "        simulation = len(df_joint) / input_sampling_factor\n",
    "        \n",
    "        df_comparison.append({\n",
    "            \"relation\": \"{} - {}\".format(relation[\"from\"], relation[\"to\"]),\n",
    "            \"reference\": relation[slot], \"simulation\": simulation, \n",
    "            \"type\": relation[\"type\"], \"slot\": slot\n",
    "        })\n",
    "\n",
    "df_comparison = pd.DataFrame.from_records(df_comparison)\n",
    "df_comparison[\"simulation\"] = df_comparison[\"simulation\"].astype(int)\n",
    "\n",
    "df_comparison[\"delta\"] = (df_comparison[\"simulation\"] - df_comparison[\"reference\"]) / df_comparison[\"reference\"]"
   ]
  },
  {
   "cell_type": "code",
   "execution_count": null,
   "metadata": {},
   "outputs": [],
   "source": [
    "# Show comparison table\n",
    "df_comparison"
   ]
  },
  {
   "cell_type": "code",
   "execution_count": null,
   "metadata": {},
   "outputs": [],
   "source": [
    "# Plot comparison data\n",
    "px.scatter(df_comparison, x = \"reference\", y = \"simulation\", color = \"type\")"
   ]
  }
 ],
 "metadata": {
  "kernelspec": {
   "display_name": "bavaria",
   "language": "python",
   "name": "python3"
  },
  "language_info": {
   "codemirror_mode": {
    "name": "ipython",
    "version": 3
   },
   "file_extension": ".py",
   "mimetype": "text/x-python",
   "name": "python",
   "nbconvert_exporter": "python",
   "pygments_lexer": "ipython3",
   "version": "3.10.10"
  }
 },
 "nbformat": 4,
 "nbformat_minor": 2
}
