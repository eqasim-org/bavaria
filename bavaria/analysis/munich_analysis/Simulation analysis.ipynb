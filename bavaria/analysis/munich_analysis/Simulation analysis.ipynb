{
 "cells": [
  {
   "cell_type": "code",
   "execution_count": 1,
   "metadata": {},
   "outputs": [],
   "source": [
    "import pandas as pd\n",
    "import geopandas as gpd\n",
    "import pyogrio\n",
    "import h3pandas\n",
    "import shapely.geometry as sgeo\n",
    "import plotly.express as px"
   ]
  },
  {
   "cell_type": "markdown",
   "metadata": {},
   "source": [
    "### Settings"
   ]
  },
  {
   "cell_type": "code",
   "execution_count": 2,
   "metadata": {},
   "outputs": [],
   "source": [
    "sampling_factor = 0.01\n",
    "\n",
    "output_path = \"../../output\"\n",
    "output_prefix = \"mun_1pct_\"\n",
    "\n",
    "data_path = \"../../analysis/data\""
   ]
  },
  {
   "cell_type": "markdown",
   "metadata": {},
   "source": [
    "### Prepare spatial analysis"
   ]
  },
  {
   "cell_type": "code",
   "execution_count": 3,
   "metadata": {},
   "outputs": [],
   "source": [
    "df_zones = pyogrio.read_dataframe(\"../../output/mun_zones.gpkg\")\n",
    "df_municipalities = df_zones[[\"municipality_id\", \"geometry\"]].copy()\n",
    "df_kreis = df_zones[[\"kreis_id\", \"geometry\"]].dissolve(\"kreis_id\").reset_index()\n",
    "\n",
    "df_centroids = df_municipalities.copy()\n",
    "df_centroids[\"geometry\"] = df_centroids[\"geometry\"].centroid"
   ]
  },
  {
   "cell_type": "markdown",
   "metadata": {},
   "source": [
    "### Load data"
   ]
  },
  {
   "cell_type": "code",
   "execution_count": 4,
   "metadata": {},
   "outputs": [],
   "source": [
    "df_activities = pyogrio.read_dataframe(\"../../output/mun_activities.gpkg\")"
   ]
  },
  {
   "cell_type": "markdown",
   "metadata": {},
   "source": [
    "### Spatial analysis"
   ]
  },
  {
   "cell_type": "code",
   "execution_count": 5,
   "metadata": {},
   "outputs": [],
   "source": [
    "# Population density\n",
    "df_population = df_activities[df_activities[\"purpose\"] == \"home\"].drop_duplicates(\"person_id\")\n",
    "df_population.to_crs(\"EPSG:4326\").h3.geo_to_h3_aggregate(7, \"size\").rename(\n",
    "    columns = { 0: \"population \"}).to_file(\"../../output/analysis/population.gpkg\")"
   ]
  },
  {
   "cell_type": "code",
   "execution_count": 6,
   "metadata": {},
   "outputs": [],
   "source": [
    "# Work density\n",
    "df_employment = df_activities[df_activities[\"purpose\"] == \"work\"].drop_duplicates(\"person_id\")\n",
    "df_employment.to_crs(\"EPSG:4326\").h3.geo_to_h3_aggregate(7, \"size\").rename(\n",
    "    columns = { 0: \"employment \"}).to_file(\"../../output/analysis/employment.gpkg\")"
   ]
  },
  {
   "cell_type": "code",
   "execution_count": 7,
   "metadata": {},
   "outputs": [],
   "source": [
    "# Education density\n",
    "df_education = df_activities[df_activities[\"purpose\"] == \"education\"].drop_duplicates(\"person_id\")\n",
    "df_education.to_crs(\"EPSG:4326\").h3.geo_to_h3_aggregate(7, \"size\").rename(\n",
    "    columns = { 0: \"education \"}).to_file(\"../../output/analysis/education.gpkg\")"
   ]
  },
  {
   "cell_type": "code",
   "execution_count": 8,
   "metadata": {},
   "outputs": [],
   "source": [
    "# Flow \n",
    "df_flow = df_activities[\n",
    "    (df_activities[\"purpose\"] == \"home\") | (df_activities[\"purpose\"] == \"work\")\n",
    "].drop_duplicates([\"person_id\", \"purpose\"])[[\"person_id\", \"purpose\", \"geometry\"]]\n",
    "\n",
    "df_origin = df_flow[df_flow[\"purpose\"] == \"home\"]\n",
    "df_destination = df_flow[df_flow[\"purpose\"] == \"work\"]\n",
    "\n",
    "df_origin = gpd.sjoin(df_origin, df_municipalities)[[\"person_id\", \"municipality_id\"]]\n",
    "df_destination = gpd.sjoin(df_destination, df_municipalities)[[\"person_id\", \"municipality_id\"]]\n",
    "\n",
    "df_origin = df_origin.rename(columns = { \"municipality_id\": \"origin_id\" })\n",
    "df_destination = df_destination.rename(columns = { \"municipality_id\": \"destination_id\" })\n",
    "\n",
    "df_flow = pd.merge(df_origin, df_destination, on = \"person_id\")\n",
    "df_flow = df_flow.groupby([\"origin_id\", \"destination_id\"]).size().reset_index(name = \"flow\")\n",
    "\n",
    "df_flow = pd.merge(df_flow, df_centroids.rename(columns = {\n",
    "    \"municipality_id\": \"origin_id\", \"geometry\": \"origin_geometry\"\n",
    "}))\n",
    "\n",
    "df_flow = pd.merge(df_flow, df_centroids.rename(columns = {\n",
    "    \"municipality_id\": \"destination_id\", \"geometry\": \"destination_geometry\"\n",
    "}))\n",
    "\n",
    "df_flow[\"geometry\"] = [\n",
    "    sgeo.LineString(od)\n",
    "    for od in zip(df_flow[\"origin_geometry\"], df_flow[\"destination_geometry\"])\n",
    "]\n",
    "\n",
    "df_flow = gpd.GeoDataFrame(df_flow, crs = df_centroids.crs)[[\n",
    "    \"origin_id\", \"destination_id\", \"flow\", \"geometry\"\n",
    "]]\n",
    "\n",
    "df_flow = df_flow[df_flow[\"origin_id\"] != df_flow[\"destination_id\"]]\n",
    "df_flow.to_file(\"../../output/analysis/flow.gpkg\")"
   ]
  }
 ],
 "metadata": {
  "kernelspec": {
   "display_name": "tum",
   "language": "python",
   "name": "python3"
  },
  "language_info": {
   "codemirror_mode": {
    "name": "ipython",
    "version": 3
   },
   "file_extension": ".py",
   "mimetype": "text/x-python",
   "name": "python",
   "nbconvert_exporter": "python",
   "pygments_lexer": "ipython3",
   "version": "3.10.10"
  }
 },
 "nbformat": 4,
 "nbformat_minor": 2
}
