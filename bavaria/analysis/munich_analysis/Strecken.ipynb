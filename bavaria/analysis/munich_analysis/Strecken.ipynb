{
 "cells": [
  {
   "cell_type": "code",
   "execution_count": 1,
   "metadata": {},
   "outputs": [],
   "source": [
    "import pandas as pd\n",
    "import geopandas as gpd\n",
    "import zipfile\n",
    "import numpy as np\n",
    "import plotly.express as px"
   ]
  },
  {
   "cell_type": "code",
   "execution_count": 2,
   "metadata": {},
   "outputs": [],
   "source": [
    "relations = [\n",
    "    { \"type\": \"subway\", \"from\": \"Odeonsplatz\", \"to\": \"Universität\", \"total\": 110400 },\n",
    "    { \"type\": \"subway\", \"from\": \"Universität\", \"to\": \"Odeonsplatz\", \"total\": 108100 },\n",
    "    { \"type\": \"subway\", \"from\": \"München Hbf\", \"to\": \"Stiglmaierplatz\", \"total\": 48500 },\n",
    "    { \"type\": \"subway\", \"from\": \"Stiglmaierplatz\", \"to\": \"München Hbf\", \"total\": 48500 },\n",
    "    { \"type\": \"subway\", \"from\": \"München Hbf\", \"to\": \"Königsplatz\", \"total\": 74500 },\n",
    "    { \"type\": \"subway\", \"from\": \"Königsplatz\", \"to\": \"München Hbf\", \"total\": 76900 },\n",
    "    { \"type\": \"subway\", \"from\": \"Theresienwiese\", \"to\": \"Schwanthalerhöhe\", \"total\": 44500 },\n",
    "    { \"type\": \"subway\", \"from\": \"Schwanthalerhöhe\", \"to\": \"Theresienwiese\", \"total\": 46300 },\n",
    "    { \"type\": \"subway\", \"from\": \"Sendlinger Tor\", \"to\": \"Goetheplatz\", \"total\": 104500 },\n",
    "    { \"type\": \"subway\", \"from\": \"Goetheplatz\", \"to\": \"Sendlinger Tor\", \"total\": 106500 },\n",
    "    { \"type\": \"subway\", \"from\": \"Sendlinger Tor\", \"to\": \"Fraunhoferstraße\", \"total\": 89000 },\n",
    "    { \"type\": \"subway\", \"from\": \"Fraunhoferstraße\", \"to\": \"Sendlinger Tor\", \"total\": 90500 },\n",
    "    { \"type\": \"subway\", \"from\": \"Max-Weber-Platz\", \"to\": \"Ostbahnhof\", \"total\": 50600 },\n",
    "    { \"type\": \"subway\", \"from\": \"Ostbahnhof\", \"to\": \"Max-Weber-Platz\", \"total\": 53500 },\n",
    "    { \"type\": \"subway\", \"from\": \"Kolumbusplatz\", \"to\": \"Silberhornstraße\", \"total\": 62800 },\n",
    "    { \"type\": \"subway\", \"from\": \"Silberhornstraße\", \"to\": \"Kolumbusplatz\", \"total\": 59300 },\n",
    "\n",
    "    { \"type\": \"tram\", \"from\": \"Karlstraße\", \"to\": \"Hauptbahnhof Nord\", \"total\": 17300 },\n",
    "    { \"type\": \"tram\", \"from\": \"Hauptbahnhof Nord\", \"to\": \"Karlstraße\", \"total\": 17200 },\n",
    "    { \"type\": \"tram\", \"from\": \"Hopfenstraße\", \"to\": \"Hauptbahnhof Nord\", \"total\": 15100 },\n",
    "    { \"type\": \"tram\", \"from\": \"Hauptbahnhof Nord\", \"to\": \"Hopfenstraße\", \"total\": 12400 },\n",
    "    { \"type\": \"tram\", \"from\": \"Holzkirchner Bahnhof\", \"to\": \"Hauptbahnhof Süd\", \"total\": 12600 },\n",
    "    { \"type\": \"tram\", \"from\": \"Hauptbahnhof Süd\", \"to\": \"Holzkirchner Bahnhof\", \"total\": 16400 },\n",
    "    { \"type\": \"tram\", \"from\": \"Karolinenplatz\", \"to\": \"Ottostraße\", \"total\": 10000 },\n",
    "    { \"type\": \"tram\", \"from\": \"Ottostraße\", \"to\": \"Karolinenplatz\", \"total\": 9800 },\n",
    "    { \"type\": \"tram\", \"from\": \"Müllerstraße\", \"to\": \"Sendlinger Tor\", \"total\": 11000 },\n",
    "    { \"type\": \"tram\", \"from\": \"Sendlinger Tor\", \"to\": \"Müllerstraße\", \"total\": 10800 },\n",
    "]"
   ]
  },
  {
   "cell_type": "markdown",
   "metadata": {},
   "source": [
    "### Load GTFS"
   ]
  },
  {
   "cell_type": "code",
   "execution_count": 3,
   "metadata": {},
   "outputs": [],
   "source": [
    "df_zone = gpd.read_file(\"../../analysis/data/mvv_area.gpkg\")"
   ]
  },
  {
   "cell_type": "code",
   "execution_count": 4,
   "metadata": {},
   "outputs": [],
   "source": [
    "with zipfile.ZipFile(\"../../data/gtfs_idf/latest.zip\") as archive:\n",
    "    with archive.open(\"stops.txt\") as f:\n",
    "        df_stops = pd.read_csv(f, sep = \",\")\n",
    "\n",
    "df_stops[\"geometry\"] = gpd.points_from_xy(df_stops[\"stop_lon\"], df_stops[\"stop_lat\"])\n",
    "df_stops = gpd.GeoDataFrame(df_stops, crs = \"EPSG:4326\").to_crs(\"EPSG:25832\")\n",
    "df_stops = gpd.sjoin(df_stops, df_zone, predicate = \"within\")"
   ]
  },
  {
   "cell_type": "markdown",
   "metadata": {},
   "source": [
    "### Find stop identifiers"
   ]
  },
  {
   "cell_type": "code",
   "execution_count": 5,
   "metadata": {},
   "outputs": [],
   "source": [
    "names = set([r[\"from\"] for r in relations] + [r[\"to\"] for r in relations])\n",
    "mapping = {} \n",
    "\n",
    "for name in names:\n",
    "    f = df_stops[\"stop_name\"] == name\n",
    "    f &= ~df_stops[\"parent_station\"].isna()\n",
    "\n",
    "    if np.count_nonzero(f) == 0:\n",
    "        print(\"No match for\", name)\n",
    "\n",
    "    else:\n",
    "        parents = df_stops.loc[f, \"parent_station\"].unique()\n",
    "\n",
    "        if len(parents) > 1:\n",
    "            print(\"Multiple parents for\", name, \":\", parents)\n",
    "        else:\n",
    "            mapping[name] = parents[0]"
   ]
  },
  {
   "cell_type": "code",
   "execution_count": 6,
   "metadata": {},
   "outputs": [],
   "source": [
    "for relation in relations:\n",
    "    relation[\"from_id\"] = mapping[relation[\"from\"]]\n",
    "    relation[\"to_id\"] = mapping[relation[\"to\"]]"
   ]
  },
  {
   "cell_type": "markdown",
   "metadata": {},
   "source": [
    "### Load leg data"
   ]
  },
  {
   "cell_type": "code",
   "execution_count": 7,
   "metadata": {},
   "outputs": [],
   "source": [
    "df = pd.read_csv(\"../../output/zones/eqasim_pt.csv\", sep = \";\")\n",
    "sampling_rate = 0.01"
   ]
  },
  {
   "cell_type": "code",
   "execution_count": 8,
   "metadata": {},
   "outputs": [],
   "source": [
    "df_comparison = []\n",
    "\n",
    "for relation in relations:\n",
    "    f = df[\"access_area_id\"] == float(relation[\"from_id\"])\n",
    "    f &= df[\"egress_area_id\"] == float(relation[\"to_id\"])\n",
    "    f &= df[\"transit_mode\"] == relation[\"type\"]\n",
    "\n",
    "    simulation = np.count_nonzero(f) / sampling_rate\n",
    "    \n",
    "    df_comparison.append({\n",
    "        \"relation\": \"{} - {}\".format(relation[\"from\"], relation[\"to\"]),\n",
    "        \"reference\": relation[\"total\"], \"simulation\": simulation, \n",
    "        \"type\": relation[\"type\"]\n",
    "    })\n",
    "\n",
    "df_comparison = pd.DataFrame.from_records(df_comparison)"
   ]
  },
  {
   "cell_type": "code",
   "execution_count": 9,
   "metadata": {},
   "outputs": [
    {
     "data": {
      "text/html": [
       "<div>\n",
       "<style scoped>\n",
       "    .dataframe tbody tr th:only-of-type {\n",
       "        vertical-align: middle;\n",
       "    }\n",
       "\n",
       "    .dataframe tbody tr th {\n",
       "        vertical-align: top;\n",
       "    }\n",
       "\n",
       "    .dataframe thead th {\n",
       "        text-align: right;\n",
       "    }\n",
       "</style>\n",
       "<table border=\"1\" class=\"dataframe\">\n",
       "  <thead>\n",
       "    <tr style=\"text-align: right;\">\n",
       "      <th></th>\n",
       "      <th>relation</th>\n",
       "      <th>reference</th>\n",
       "      <th>simulation</th>\n",
       "      <th>type</th>\n",
       "    </tr>\n",
       "  </thead>\n",
       "  <tbody>\n",
       "    <tr>\n",
       "      <th>0</th>\n",
       "      <td>Odeonsplatz - Universität</td>\n",
       "      <td>110400</td>\n",
       "      <td>0.0</td>\n",
       "      <td>subway</td>\n",
       "    </tr>\n",
       "    <tr>\n",
       "      <th>1</th>\n",
       "      <td>Universität - Odeonsplatz</td>\n",
       "      <td>108100</td>\n",
       "      <td>0.0</td>\n",
       "      <td>subway</td>\n",
       "    </tr>\n",
       "    <tr>\n",
       "      <th>2</th>\n",
       "      <td>München Hbf - Stiglmaierplatz</td>\n",
       "      <td>48500</td>\n",
       "      <td>0.0</td>\n",
       "      <td>subway</td>\n",
       "    </tr>\n",
       "    <tr>\n",
       "      <th>3</th>\n",
       "      <td>Stiglmaierplatz - München Hbf</td>\n",
       "      <td>48500</td>\n",
       "      <td>0.0</td>\n",
       "      <td>subway</td>\n",
       "    </tr>\n",
       "    <tr>\n",
       "      <th>4</th>\n",
       "      <td>München Hbf - Königsplatz</td>\n",
       "      <td>74500</td>\n",
       "      <td>0.0</td>\n",
       "      <td>subway</td>\n",
       "    </tr>\n",
       "    <tr>\n",
       "      <th>5</th>\n",
       "      <td>Königsplatz - München Hbf</td>\n",
       "      <td>76900</td>\n",
       "      <td>0.0</td>\n",
       "      <td>subway</td>\n",
       "    </tr>\n",
       "    <tr>\n",
       "      <th>6</th>\n",
       "      <td>Theresienwiese - Schwanthalerhöhe</td>\n",
       "      <td>44500</td>\n",
       "      <td>300.0</td>\n",
       "      <td>subway</td>\n",
       "    </tr>\n",
       "    <tr>\n",
       "      <th>7</th>\n",
       "      <td>Schwanthalerhöhe - Theresienwiese</td>\n",
       "      <td>46300</td>\n",
       "      <td>300.0</td>\n",
       "      <td>subway</td>\n",
       "    </tr>\n",
       "    <tr>\n",
       "      <th>8</th>\n",
       "      <td>Sendlinger Tor - Goetheplatz</td>\n",
       "      <td>104500</td>\n",
       "      <td>900.0</td>\n",
       "      <td>subway</td>\n",
       "    </tr>\n",
       "    <tr>\n",
       "      <th>9</th>\n",
       "      <td>Goetheplatz - Sendlinger Tor</td>\n",
       "      <td>106500</td>\n",
       "      <td>900.0</td>\n",
       "      <td>subway</td>\n",
       "    </tr>\n",
       "    <tr>\n",
       "      <th>10</th>\n",
       "      <td>Sendlinger Tor - Fraunhoferstraße</td>\n",
       "      <td>89000</td>\n",
       "      <td>800.0</td>\n",
       "      <td>subway</td>\n",
       "    </tr>\n",
       "    <tr>\n",
       "      <th>11</th>\n",
       "      <td>Fraunhoferstraße - Sendlinger Tor</td>\n",
       "      <td>90500</td>\n",
       "      <td>1000.0</td>\n",
       "      <td>subway</td>\n",
       "    </tr>\n",
       "    <tr>\n",
       "      <th>12</th>\n",
       "      <td>Max-Weber-Platz - Ostbahnhof</td>\n",
       "      <td>50600</td>\n",
       "      <td>1500.0</td>\n",
       "      <td>subway</td>\n",
       "    </tr>\n",
       "    <tr>\n",
       "      <th>13</th>\n",
       "      <td>Ostbahnhof - Max-Weber-Platz</td>\n",
       "      <td>53500</td>\n",
       "      <td>2800.0</td>\n",
       "      <td>subway</td>\n",
       "    </tr>\n",
       "    <tr>\n",
       "      <th>14</th>\n",
       "      <td>Kolumbusplatz - Silberhornstraße</td>\n",
       "      <td>62800</td>\n",
       "      <td>100.0</td>\n",
       "      <td>subway</td>\n",
       "    </tr>\n",
       "    <tr>\n",
       "      <th>15</th>\n",
       "      <td>Silberhornstraße - Kolumbusplatz</td>\n",
       "      <td>59300</td>\n",
       "      <td>400.0</td>\n",
       "      <td>subway</td>\n",
       "    </tr>\n",
       "    <tr>\n",
       "      <th>16</th>\n",
       "      <td>Karlstraße - Hauptbahnhof Nord</td>\n",
       "      <td>17300</td>\n",
       "      <td>0.0</td>\n",
       "      <td>tram</td>\n",
       "    </tr>\n",
       "    <tr>\n",
       "      <th>17</th>\n",
       "      <td>Hauptbahnhof Nord - Karlstraße</td>\n",
       "      <td>17200</td>\n",
       "      <td>0.0</td>\n",
       "      <td>tram</td>\n",
       "    </tr>\n",
       "    <tr>\n",
       "      <th>18</th>\n",
       "      <td>Hopfenstraße - Hauptbahnhof Nord</td>\n",
       "      <td>15100</td>\n",
       "      <td>0.0</td>\n",
       "      <td>tram</td>\n",
       "    </tr>\n",
       "    <tr>\n",
       "      <th>19</th>\n",
       "      <td>Hauptbahnhof Nord - Hopfenstraße</td>\n",
       "      <td>12400</td>\n",
       "      <td>0.0</td>\n",
       "      <td>tram</td>\n",
       "    </tr>\n",
       "    <tr>\n",
       "      <th>20</th>\n",
       "      <td>Holzkirchner Bahnhof - Hauptbahnhof Süd</td>\n",
       "      <td>12600</td>\n",
       "      <td>0.0</td>\n",
       "      <td>tram</td>\n",
       "    </tr>\n",
       "    <tr>\n",
       "      <th>21</th>\n",
       "      <td>Hauptbahnhof Süd - Holzkirchner Bahnhof</td>\n",
       "      <td>16400</td>\n",
       "      <td>400.0</td>\n",
       "      <td>tram</td>\n",
       "    </tr>\n",
       "    <tr>\n",
       "      <th>22</th>\n",
       "      <td>Karolinenplatz - Ottostraße</td>\n",
       "      <td>10000</td>\n",
       "      <td>0.0</td>\n",
       "      <td>tram</td>\n",
       "    </tr>\n",
       "    <tr>\n",
       "      <th>23</th>\n",
       "      <td>Ottostraße - Karolinenplatz</td>\n",
       "      <td>9800</td>\n",
       "      <td>0.0</td>\n",
       "      <td>tram</td>\n",
       "    </tr>\n",
       "    <tr>\n",
       "      <th>24</th>\n",
       "      <td>Müllerstraße - Sendlinger Tor</td>\n",
       "      <td>11000</td>\n",
       "      <td>0.0</td>\n",
       "      <td>tram</td>\n",
       "    </tr>\n",
       "    <tr>\n",
       "      <th>25</th>\n",
       "      <td>Sendlinger Tor - Müllerstraße</td>\n",
       "      <td>10800</td>\n",
       "      <td>100.0</td>\n",
       "      <td>tram</td>\n",
       "    </tr>\n",
       "  </tbody>\n",
       "</table>\n",
       "</div>"
      ],
      "text/plain": [
       "                                   relation  reference  simulation    type\n",
       "0                 Odeonsplatz - Universität     110400         0.0  subway\n",
       "1                 Universität - Odeonsplatz     108100         0.0  subway\n",
       "2             München Hbf - Stiglmaierplatz      48500         0.0  subway\n",
       "3             Stiglmaierplatz - München Hbf      48500         0.0  subway\n",
       "4                 München Hbf - Königsplatz      74500         0.0  subway\n",
       "5                 Königsplatz - München Hbf      76900         0.0  subway\n",
       "6         Theresienwiese - Schwanthalerhöhe      44500       300.0  subway\n",
       "7         Schwanthalerhöhe - Theresienwiese      46300       300.0  subway\n",
       "8              Sendlinger Tor - Goetheplatz     104500       900.0  subway\n",
       "9              Goetheplatz - Sendlinger Tor     106500       900.0  subway\n",
       "10        Sendlinger Tor - Fraunhoferstraße      89000       800.0  subway\n",
       "11        Fraunhoferstraße - Sendlinger Tor      90500      1000.0  subway\n",
       "12             Max-Weber-Platz - Ostbahnhof      50600      1500.0  subway\n",
       "13             Ostbahnhof - Max-Weber-Platz      53500      2800.0  subway\n",
       "14         Kolumbusplatz - Silberhornstraße      62800       100.0  subway\n",
       "15         Silberhornstraße - Kolumbusplatz      59300       400.0  subway\n",
       "16           Karlstraße - Hauptbahnhof Nord      17300         0.0    tram\n",
       "17           Hauptbahnhof Nord - Karlstraße      17200         0.0    tram\n",
       "18         Hopfenstraße - Hauptbahnhof Nord      15100         0.0    tram\n",
       "19         Hauptbahnhof Nord - Hopfenstraße      12400         0.0    tram\n",
       "20  Holzkirchner Bahnhof - Hauptbahnhof Süd      12600         0.0    tram\n",
       "21  Hauptbahnhof Süd - Holzkirchner Bahnhof      16400       400.0    tram\n",
       "22              Karolinenplatz - Ottostraße      10000         0.0    tram\n",
       "23              Ottostraße - Karolinenplatz       9800         0.0    tram\n",
       "24            Müllerstraße - Sendlinger Tor      11000         0.0    tram\n",
       "25            Sendlinger Tor - Müllerstraße      10800       100.0    tram"
      ]
     },
     "execution_count": 9,
     "metadata": {},
     "output_type": "execute_result"
    }
   ],
   "source": [
    "df_comparison"
   ]
  },
  {
   "cell_type": "code",
   "execution_count": 10,
   "metadata": {},
   "outputs": [
    {
     "data": {
      "application/vnd.plotly.v1+json": {
       "config": {
        "plotlyServerURL": "https://plot.ly"
       },
       "data": [
        {
         "hovertemplate": "type=subway<br>reference=%{x}<br>simulation=%{y}<extra></extra>",
         "legendgroup": "subway",
         "marker": {
          "color": "#636efa",
          "symbol": "circle"
         },
         "mode": "markers",
         "name": "subway",
         "orientation": "v",
         "showlegend": true,
         "type": "scatter",
         "x": [
          110400,
          108100,
          48500,
          48500,
          74500,
          76900,
          44500,
          46300,
          104500,
          106500,
          89000,
          90500,
          50600,
          53500,
          62800,
          59300
         ],
         "xaxis": "x",
         "y": [
          0,
          0,
          0,
          0,
          0,
          0,
          300,
          300,
          900,
          900,
          800,
          1000,
          1500,
          2800,
          100,
          400
         ],
         "yaxis": "y"
        },
        {
         "hovertemplate": "<b>OLS trendline</b><br>simulation = -0.00282591 * reference + 769.922<br>R<sup>2</sup>=0.008526<br><br>type=subway<br>reference=%{x}<br>simulation=%{y} <b>(trend)</b><extra></extra>",
         "legendgroup": "subway",
         "marker": {
          "color": "#636efa",
          "symbol": "circle"
         },
         "mode": "lines",
         "name": "subway",
         "showlegend": false,
         "type": "scatter",
         "x": [
          44500,
          46300,
          48500,
          48500,
          50600,
          53500,
          59300,
          62800,
          74500,
          76900,
          89000,
          90500,
          104500,
          106500,
          108100,
          110400
         ],
         "xaxis": "x",
         "y": [
          644.1688715868925,
          639.0822290659096,
          632.8652215402637,
          632.8652215402637,
          626.9308052657838,
          618.735658981978,
          602.3453664143665,
          592.4546726235664,
          559.3914962371775,
          552.6093062092004,
          518.4157648181488,
          514.176896050663,
          474.6141208874627,
          468.96229586414836,
          464.4408358454969,
          457.94123706868544
         ],
         "yaxis": "y"
        },
        {
         "hovertemplate": "type=tram<br>reference=%{x}<br>simulation=%{y}<extra></extra>",
         "legendgroup": "tram",
         "marker": {
          "color": "#EF553B",
          "symbol": "circle"
         },
         "mode": "markers",
         "name": "tram",
         "orientation": "v",
         "showlegend": true,
         "type": "scatter",
         "x": [
          17300,
          17200,
          15100,
          12400,
          12600,
          16400,
          10000,
          9800,
          11000,
          10800
         ],
         "xaxis": "x",
         "y": [
          0,
          0,
          0,
          0,
          0,
          400,
          0,
          0,
          0,
          100
         ],
         "yaxis": "y"
        },
        {
         "hovertemplate": "<b>OLS trendline</b><br>simulation = 0.0126212 * reference + -117.357<br>R<sup>2</sup>=0.087913<br><br>type=tram<br>reference=%{x}<br>simulation=%{y} <b>(trend)</b><extra></extra>",
         "legendgroup": "tram",
         "marker": {
          "color": "#EF553B",
          "symbol": "circle"
         },
         "mode": "lines",
         "name": "tram",
         "showlegend": false,
         "type": "scatter",
         "x": [
          9800,
          10000,
          10800,
          11000,
          12400,
          12600,
          15100,
          16400,
          17200,
          17300
         ],
         "xaxis": "x",
         "y": [
          6.33060081975411,
          8.854843546935953,
          18.95181445566334,
          21.47605718284518,
          39.14575627311811,
          41.66999900029995,
          73.22303309007302,
          89.63061081675502,
          99.7275817254824,
          100.98970308907332
         ],
         "yaxis": "y"
        }
       ],
       "layout": {
        "legend": {
         "title": {
          "text": "type"
         },
         "tracegroupgap": 0
        },
        "margin": {
         "t": 60
        },
        "template": {
         "data": {
          "bar": [
           {
            "error_x": {
             "color": "#2a3f5f"
            },
            "error_y": {
             "color": "#2a3f5f"
            },
            "marker": {
             "line": {
              "color": "#E5ECF6",
              "width": 0.5
             },
             "pattern": {
              "fillmode": "overlay",
              "size": 10,
              "solidity": 0.2
             }
            },
            "type": "bar"
           }
          ],
          "barpolar": [
           {
            "marker": {
             "line": {
              "color": "#E5ECF6",
              "width": 0.5
             },
             "pattern": {
              "fillmode": "overlay",
              "size": 10,
              "solidity": 0.2
             }
            },
            "type": "barpolar"
           }
          ],
          "carpet": [
           {
            "aaxis": {
             "endlinecolor": "#2a3f5f",
             "gridcolor": "white",
             "linecolor": "white",
             "minorgridcolor": "white",
             "startlinecolor": "#2a3f5f"
            },
            "baxis": {
             "endlinecolor": "#2a3f5f",
             "gridcolor": "white",
             "linecolor": "white",
             "minorgridcolor": "white",
             "startlinecolor": "#2a3f5f"
            },
            "type": "carpet"
           }
          ],
          "choropleth": [
           {
            "colorbar": {
             "outlinewidth": 0,
             "ticks": ""
            },
            "type": "choropleth"
           }
          ],
          "contour": [
           {
            "colorbar": {
             "outlinewidth": 0,
             "ticks": ""
            },
            "colorscale": [
             [
              0,
              "#0d0887"
             ],
             [
              0.1111111111111111,
              "#46039f"
             ],
             [
              0.2222222222222222,
              "#7201a8"
             ],
             [
              0.3333333333333333,
              "#9c179e"
             ],
             [
              0.4444444444444444,
              "#bd3786"
             ],
             [
              0.5555555555555556,
              "#d8576b"
             ],
             [
              0.6666666666666666,
              "#ed7953"
             ],
             [
              0.7777777777777778,
              "#fb9f3a"
             ],
             [
              0.8888888888888888,
              "#fdca26"
             ],
             [
              1,
              "#f0f921"
             ]
            ],
            "type": "contour"
           }
          ],
          "contourcarpet": [
           {
            "colorbar": {
             "outlinewidth": 0,
             "ticks": ""
            },
            "type": "contourcarpet"
           }
          ],
          "heatmap": [
           {
            "colorbar": {
             "outlinewidth": 0,
             "ticks": ""
            },
            "colorscale": [
             [
              0,
              "#0d0887"
             ],
             [
              0.1111111111111111,
              "#46039f"
             ],
             [
              0.2222222222222222,
              "#7201a8"
             ],
             [
              0.3333333333333333,
              "#9c179e"
             ],
             [
              0.4444444444444444,
              "#bd3786"
             ],
             [
              0.5555555555555556,
              "#d8576b"
             ],
             [
              0.6666666666666666,
              "#ed7953"
             ],
             [
              0.7777777777777778,
              "#fb9f3a"
             ],
             [
              0.8888888888888888,
              "#fdca26"
             ],
             [
              1,
              "#f0f921"
             ]
            ],
            "type": "heatmap"
           }
          ],
          "heatmapgl": [
           {
            "colorbar": {
             "outlinewidth": 0,
             "ticks": ""
            },
            "colorscale": [
             [
              0,
              "#0d0887"
             ],
             [
              0.1111111111111111,
              "#46039f"
             ],
             [
              0.2222222222222222,
              "#7201a8"
             ],
             [
              0.3333333333333333,
              "#9c179e"
             ],
             [
              0.4444444444444444,
              "#bd3786"
             ],
             [
              0.5555555555555556,
              "#d8576b"
             ],
             [
              0.6666666666666666,
              "#ed7953"
             ],
             [
              0.7777777777777778,
              "#fb9f3a"
             ],
             [
              0.8888888888888888,
              "#fdca26"
             ],
             [
              1,
              "#f0f921"
             ]
            ],
            "type": "heatmapgl"
           }
          ],
          "histogram": [
           {
            "marker": {
             "pattern": {
              "fillmode": "overlay",
              "size": 10,
              "solidity": 0.2
             }
            },
            "type": "histogram"
           }
          ],
          "histogram2d": [
           {
            "colorbar": {
             "outlinewidth": 0,
             "ticks": ""
            },
            "colorscale": [
             [
              0,
              "#0d0887"
             ],
             [
              0.1111111111111111,
              "#46039f"
             ],
             [
              0.2222222222222222,
              "#7201a8"
             ],
             [
              0.3333333333333333,
              "#9c179e"
             ],
             [
              0.4444444444444444,
              "#bd3786"
             ],
             [
              0.5555555555555556,
              "#d8576b"
             ],
             [
              0.6666666666666666,
              "#ed7953"
             ],
             [
              0.7777777777777778,
              "#fb9f3a"
             ],
             [
              0.8888888888888888,
              "#fdca26"
             ],
             [
              1,
              "#f0f921"
             ]
            ],
            "type": "histogram2d"
           }
          ],
          "histogram2dcontour": [
           {
            "colorbar": {
             "outlinewidth": 0,
             "ticks": ""
            },
            "colorscale": [
             [
              0,
              "#0d0887"
             ],
             [
              0.1111111111111111,
              "#46039f"
             ],
             [
              0.2222222222222222,
              "#7201a8"
             ],
             [
              0.3333333333333333,
              "#9c179e"
             ],
             [
              0.4444444444444444,
              "#bd3786"
             ],
             [
              0.5555555555555556,
              "#d8576b"
             ],
             [
              0.6666666666666666,
              "#ed7953"
             ],
             [
              0.7777777777777778,
              "#fb9f3a"
             ],
             [
              0.8888888888888888,
              "#fdca26"
             ],
             [
              1,
              "#f0f921"
             ]
            ],
            "type": "histogram2dcontour"
           }
          ],
          "mesh3d": [
           {
            "colorbar": {
             "outlinewidth": 0,
             "ticks": ""
            },
            "type": "mesh3d"
           }
          ],
          "parcoords": [
           {
            "line": {
             "colorbar": {
              "outlinewidth": 0,
              "ticks": ""
             }
            },
            "type": "parcoords"
           }
          ],
          "pie": [
           {
            "automargin": true,
            "type": "pie"
           }
          ],
          "scatter": [
           {
            "fillpattern": {
             "fillmode": "overlay",
             "size": 10,
             "solidity": 0.2
            },
            "type": "scatter"
           }
          ],
          "scatter3d": [
           {
            "line": {
             "colorbar": {
              "outlinewidth": 0,
              "ticks": ""
             }
            },
            "marker": {
             "colorbar": {
              "outlinewidth": 0,
              "ticks": ""
             }
            },
            "type": "scatter3d"
           }
          ],
          "scattercarpet": [
           {
            "marker": {
             "colorbar": {
              "outlinewidth": 0,
              "ticks": ""
             }
            },
            "type": "scattercarpet"
           }
          ],
          "scattergeo": [
           {
            "marker": {
             "colorbar": {
              "outlinewidth": 0,
              "ticks": ""
             }
            },
            "type": "scattergeo"
           }
          ],
          "scattergl": [
           {
            "marker": {
             "colorbar": {
              "outlinewidth": 0,
              "ticks": ""
             }
            },
            "type": "scattergl"
           }
          ],
          "scattermapbox": [
           {
            "marker": {
             "colorbar": {
              "outlinewidth": 0,
              "ticks": ""
             }
            },
            "type": "scattermapbox"
           }
          ],
          "scatterpolar": [
           {
            "marker": {
             "colorbar": {
              "outlinewidth": 0,
              "ticks": ""
             }
            },
            "type": "scatterpolar"
           }
          ],
          "scatterpolargl": [
           {
            "marker": {
             "colorbar": {
              "outlinewidth": 0,
              "ticks": ""
             }
            },
            "type": "scatterpolargl"
           }
          ],
          "scatterternary": [
           {
            "marker": {
             "colorbar": {
              "outlinewidth": 0,
              "ticks": ""
             }
            },
            "type": "scatterternary"
           }
          ],
          "surface": [
           {
            "colorbar": {
             "outlinewidth": 0,
             "ticks": ""
            },
            "colorscale": [
             [
              0,
              "#0d0887"
             ],
             [
              0.1111111111111111,
              "#46039f"
             ],
             [
              0.2222222222222222,
              "#7201a8"
             ],
             [
              0.3333333333333333,
              "#9c179e"
             ],
             [
              0.4444444444444444,
              "#bd3786"
             ],
             [
              0.5555555555555556,
              "#d8576b"
             ],
             [
              0.6666666666666666,
              "#ed7953"
             ],
             [
              0.7777777777777778,
              "#fb9f3a"
             ],
             [
              0.8888888888888888,
              "#fdca26"
             ],
             [
              1,
              "#f0f921"
             ]
            ],
            "type": "surface"
           }
          ],
          "table": [
           {
            "cells": {
             "fill": {
              "color": "#EBF0F8"
             },
             "line": {
              "color": "white"
             }
            },
            "header": {
             "fill": {
              "color": "#C8D4E3"
             },
             "line": {
              "color": "white"
             }
            },
            "type": "table"
           }
          ]
         },
         "layout": {
          "annotationdefaults": {
           "arrowcolor": "#2a3f5f",
           "arrowhead": 0,
           "arrowwidth": 1
          },
          "autotypenumbers": "strict",
          "coloraxis": {
           "colorbar": {
            "outlinewidth": 0,
            "ticks": ""
           }
          },
          "colorscale": {
           "diverging": [
            [
             0,
             "#8e0152"
            ],
            [
             0.1,
             "#c51b7d"
            ],
            [
             0.2,
             "#de77ae"
            ],
            [
             0.3,
             "#f1b6da"
            ],
            [
             0.4,
             "#fde0ef"
            ],
            [
             0.5,
             "#f7f7f7"
            ],
            [
             0.6,
             "#e6f5d0"
            ],
            [
             0.7,
             "#b8e186"
            ],
            [
             0.8,
             "#7fbc41"
            ],
            [
             0.9,
             "#4d9221"
            ],
            [
             1,
             "#276419"
            ]
           ],
           "sequential": [
            [
             0,
             "#0d0887"
            ],
            [
             0.1111111111111111,
             "#46039f"
            ],
            [
             0.2222222222222222,
             "#7201a8"
            ],
            [
             0.3333333333333333,
             "#9c179e"
            ],
            [
             0.4444444444444444,
             "#bd3786"
            ],
            [
             0.5555555555555556,
             "#d8576b"
            ],
            [
             0.6666666666666666,
             "#ed7953"
            ],
            [
             0.7777777777777778,
             "#fb9f3a"
            ],
            [
             0.8888888888888888,
             "#fdca26"
            ],
            [
             1,
             "#f0f921"
            ]
           ],
           "sequentialminus": [
            [
             0,
             "#0d0887"
            ],
            [
             0.1111111111111111,
             "#46039f"
            ],
            [
             0.2222222222222222,
             "#7201a8"
            ],
            [
             0.3333333333333333,
             "#9c179e"
            ],
            [
             0.4444444444444444,
             "#bd3786"
            ],
            [
             0.5555555555555556,
             "#d8576b"
            ],
            [
             0.6666666666666666,
             "#ed7953"
            ],
            [
             0.7777777777777778,
             "#fb9f3a"
            ],
            [
             0.8888888888888888,
             "#fdca26"
            ],
            [
             1,
             "#f0f921"
            ]
           ]
          },
          "colorway": [
           "#636efa",
           "#EF553B",
           "#00cc96",
           "#ab63fa",
           "#FFA15A",
           "#19d3f3",
           "#FF6692",
           "#B6E880",
           "#FF97FF",
           "#FECB52"
          ],
          "font": {
           "color": "#2a3f5f"
          },
          "geo": {
           "bgcolor": "white",
           "lakecolor": "white",
           "landcolor": "#E5ECF6",
           "showlakes": true,
           "showland": true,
           "subunitcolor": "white"
          },
          "hoverlabel": {
           "align": "left"
          },
          "hovermode": "closest",
          "mapbox": {
           "style": "light"
          },
          "paper_bgcolor": "white",
          "plot_bgcolor": "#E5ECF6",
          "polar": {
           "angularaxis": {
            "gridcolor": "white",
            "linecolor": "white",
            "ticks": ""
           },
           "bgcolor": "#E5ECF6",
           "radialaxis": {
            "gridcolor": "white",
            "linecolor": "white",
            "ticks": ""
           }
          },
          "scene": {
           "xaxis": {
            "backgroundcolor": "#E5ECF6",
            "gridcolor": "white",
            "gridwidth": 2,
            "linecolor": "white",
            "showbackground": true,
            "ticks": "",
            "zerolinecolor": "white"
           },
           "yaxis": {
            "backgroundcolor": "#E5ECF6",
            "gridcolor": "white",
            "gridwidth": 2,
            "linecolor": "white",
            "showbackground": true,
            "ticks": "",
            "zerolinecolor": "white"
           },
           "zaxis": {
            "backgroundcolor": "#E5ECF6",
            "gridcolor": "white",
            "gridwidth": 2,
            "linecolor": "white",
            "showbackground": true,
            "ticks": "",
            "zerolinecolor": "white"
           }
          },
          "shapedefaults": {
           "line": {
            "color": "#2a3f5f"
           }
          },
          "ternary": {
           "aaxis": {
            "gridcolor": "white",
            "linecolor": "white",
            "ticks": ""
           },
           "baxis": {
            "gridcolor": "white",
            "linecolor": "white",
            "ticks": ""
           },
           "bgcolor": "#E5ECF6",
           "caxis": {
            "gridcolor": "white",
            "linecolor": "white",
            "ticks": ""
           }
          },
          "title": {
           "x": 0.05
          },
          "xaxis": {
           "automargin": true,
           "gridcolor": "white",
           "linecolor": "white",
           "ticks": "",
           "title": {
            "standoff": 15
           },
           "zerolinecolor": "white",
           "zerolinewidth": 2
          },
          "yaxis": {
           "automargin": true,
           "gridcolor": "white",
           "linecolor": "white",
           "ticks": "",
           "title": {
            "standoff": 15
           },
           "zerolinecolor": "white",
           "zerolinewidth": 2
          }
         }
        },
        "xaxis": {
         "anchor": "y",
         "domain": [
          0,
          1
         ],
         "title": {
          "text": "reference"
         }
        },
        "yaxis": {
         "anchor": "x",
         "domain": [
          0,
          1
         ],
         "title": {
          "text": "simulation"
         }
        }
       }
      }
     },
     "metadata": {},
     "output_type": "display_data"
    }
   ],
   "source": [
    "px.scatter(df_comparison, x = \"reference\", y = \"simulation\", color = \"type\", trendline = \"ols\")"
   ]
  }
 ],
 "metadata": {
  "kernelspec": {
   "display_name": "tum",
   "language": "python",
   "name": "python3"
  },
  "language_info": {
   "codemirror_mode": {
    "name": "ipython",
    "version": 3
   },
   "file_extension": ".py",
   "mimetype": "text/x-python",
   "name": "python",
   "nbconvert_exporter": "python",
   "pygments_lexer": "ipython3",
   "version": "3.10.10"
  }
 },
 "nbformat": 4,
 "nbformat_minor": 2
}
